{
 "cells": [
  {
   "cell_type": "code",
   "execution_count": null,
   "metadata": {
    "collapsed": true
   },
   "outputs": [],
   "source": [
    "import random\n",
    "\n",
    "import matplotlib.pyplot as plt\n",
    "import numpy as np\n",
    "import pandas\n",
    "import torch\n",
    "from torch import nn\n",
    "from torch.utils.data import DataLoader\n",
    "from torchvision import transforms, datasets"
   ]
  },
  {
   "cell_type": "code",
   "execution_count": null,
   "outputs": [],
   "source": [
    "class D(nn.Module):\n",
    "    def __init__(self):\n",
    "        super(D, self).__init__()\n",
    "        self.model = nn.Sequential(\n",
    "            nn.Linear(784 + 10, 200),\n",
    "            nn.LeakyReLU(0.02),\n",
    "            nn.LayerNorm(200),\n",
    "            nn.Linear(200, 1),\n",
    "            nn.Sigmoid()\n",
    "        )\n",
    "\n",
    "        self.optimiser = torch.optim.Adam(self.parameters(), lr=0.0001)\n",
    "        self.counter = 0\n",
    "        self.progress = []\n",
    "        self.loss_func = nn.BCELoss()\n",
    "\n",
    "    def forward(self, inputs, label_tensors):\n",
    "        return self.model(torch.cat((inputs.view(-1, 784), label_tensors), 1))\n",
    "\n",
    "    def nn_train(self, inputs, label_tensors, targets):\n",
    "        outputs = self(inputs, label_tensors)\n",
    "        loss = self.loss_func(outputs, targets)\n",
    "        self.counter += 1\n",
    "        if not self.counter % 10:\n",
    "            self.progress.append(loss.item())\n",
    "        self.optimiser.zero_grad()\n",
    "        loss.backward()\n",
    "        self.optimiser.step()\n",
    "\n",
    "    def plot_progress(self):\n",
    "        df = pandas.DataFrame(self.progress, columns=['loss'])\n",
    "        df.plot(figsize=(16, 8), alpha=0.1, marker='.', grid=True)"
   ],
   "metadata": {
    "collapsed": false
   }
  },
  {
   "cell_type": "code",
   "execution_count": null,
   "outputs": [],
   "source": [
    "class G(nn.Module):\n",
    "    def __init__(self):\n",
    "        super(G, self).__init__()\n",
    "        self.model = nn.Sequential(\n",
    "            nn.Linear(100 + 10, 200),\n",
    "            nn.LeakyReLU(0.02),\n",
    "            nn.LayerNorm(200),\n",
    "            nn.Linear(200, 784),\n",
    "            nn.Tanh()\n",
    "        )\n",
    "\n",
    "        self.optimiser = torch.optim.Adam(self.parameters(), lr=0.001)\n",
    "        self.counter = 0\n",
    "        self.progress = []\n",
    "\n",
    "    def forward(self, inputs, label_tensors):\n",
    "        return self.model(torch.cat((inputs, label_tensors), 1))\n",
    "\n",
    "    def nn_train(self, discriminator: D, inputs, label_tensors, targets):\n",
    "        g_outputs = self(inputs, label_tensors)\n",
    "        d_outputs = discriminator(g_outputs, label_tensors)\n",
    "        loss = discriminator.loss_func(d_outputs, targets)\n",
    "        self.counter += 1\n",
    "        if not self.counter % 10:\n",
    "            self.progress.append(loss.item())\n",
    "        self.optimiser.zero_grad()\n",
    "        loss.backward()\n",
    "        self.optimiser.step()\n",
    "\n",
    "    def plot_progress(self):\n",
    "        df = pandas.DataFrame(self.progress, columns=['loss'])\n",
    "        df.plot(figsize=(16, 8), alpha=0.1, marker='.', grid=True)\n",
    "\n",
    "    def plot_images(self, label_tensor):\n",
    "        _, canvases = plt.subplots(2, 3)\n",
    "        for i in range(2):\n",
    "            for j in range(3):\n",
    "                canvases[i][j].imshow(self(torch.randn(1, 100, device=device), label_tensor).cpu().detach().numpy().reshape(28, 28), interpolation='none', cmap='Blues')\n"
   ],
   "metadata": {
    "collapsed": false
   }
  },
  {
   "cell_type": "code",
   "execution_count": null,
   "outputs": [],
   "source": [
    "def random_hot(batch_size):\n",
    "    tensor = torch.zeros(batch_size, 10, device=device)\n",
    "    random_index = [random.randint(0, 9) for _ in range(batch_size)]\n",
    "    for t, index in enumerate(random_index):\n",
    "        tensor[t][index] = 1\n",
    "    return tensor\n",
    "\n",
    "def to_hot(labels):\n",
    "    tensor = torch.zeros(labels.size(0), 10, device=device)\n",
    "    for t, index in enumerate(labels):\n",
    "        tensor[t][index] = 1\n",
    "    return tensor"
   ],
   "metadata": {
    "collapsed": false
   }
  },
  {
   "cell_type": "code",
   "execution_count": null,
   "outputs": [],
   "source": [
    "epoch = 5"
   ],
   "metadata": {
    "collapsed": false
   }
  },
  {
   "cell_type": "code",
   "execution_count": null,
   "outputs": [],
   "source": [
    "device = torch.device('cuda' if torch.cuda.is_available() else 'cpu')\n",
    "transform = transforms.Compose([transforms.ToTensor(), transforms.Normalize(0.5, 0.5)])\n",
    "trainset = datasets.MNIST(root='../data', train=True, download=True, transform=transform)\n",
    "trainloader = DataLoader(trainset, batch_size=64, shuffle=True)\n",
    "PATH_D = '../pth/GAN_mnistD.pth'\n",
    "PATH_G = '../pth/GAN_mnistG.pth'"
   ],
   "metadata": {
    "collapsed": false
   }
  },
  {
   "cell_type": "code",
   "execution_count": null,
   "outputs": [],
   "source": [
    "d = D().to(device)\n",
    "g = G().to(device)"
   ],
   "metadata": {
    "collapsed": false
   }
  },
  {
   "cell_type": "code",
   "execution_count": null,
   "outputs": [],
   "source": [
    "try:\n",
    "    d = torch.load(PATH_D, map_location=device)\n",
    "    g = torch.load(PATH_G, map_location=device)\n",
    "except FileNotFoundError:\n",
    "    d = D().to(device)\n",
    "    g = G().to(device)"
   ],
   "metadata": {
    "collapsed": false
   }
  },
  {
   "cell_type": "code",
   "execution_count": null,
   "outputs": [],
   "source": [
    "%%time\n",
    "for e in range(epoch):\n",
    "    print(f'epcoh-{e + 1}...', end='')\n",
    "    for step, (data, label) in enumerate(trainloader):\n",
    "        data = data.to(device)\n",
    "        size = data.size(0)\n",
    "        d.nn_train(data * -1, to_hot(label), torch.ones(size, 1))\n",
    "        random_label = random_hot(size)\n",
    "        d.nn_train(g(torch.randn(size, 100, device=device), random_label), random_label, torch.zeros(size, 1))\n",
    "        random_label = random_hot(size)\n",
    "        g.nn_train(d, torch.randn(size, 100, device=device), random_label, torch.ones(size, 1))\n",
    "    print('finished')"
   ],
   "metadata": {
    "collapsed": false
   }
  },
  {
   "cell_type": "code",
   "execution_count": null,
   "outputs": [],
   "source": [
    "d.plot_progress()\n",
    "g.plot_progress()"
   ],
   "metadata": {
    "collapsed": false
   }
  },
  {
   "cell_type": "code",
   "execution_count": null,
   "outputs": [],
   "source": [
    "for n in range(10):\n",
    "    g.plot_images(to_hot(torch.tensor([n])))"
   ],
   "metadata": {
    "collapsed": false
   }
  }
 ],
 "metadata": {
  "kernelspec": {
   "display_name": "Python 3",
   "language": "python",
   "name": "python3"
  },
  "language_info": {
   "codemirror_mode": {
    "name": "ipython",
    "version": 2
   },
   "file_extension": ".py",
   "mimetype": "text/x-python",
   "name": "python",
   "nbconvert_exporter": "python",
   "pygments_lexer": "ipython2",
   "version": "2.7.6"
  }
 },
 "nbformat": 4,
 "nbformat_minor": 0
}
